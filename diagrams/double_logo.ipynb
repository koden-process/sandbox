{
 "cells": [
  {
   "cell_type": "code",
   "id": "616372f66cf94ebe",
   "metadata": {
    "collapsed": true,
    "ExecuteTime": {
     "end_time": "2024-11-22T07:35:41.787597Z",
     "start_time": "2024-11-22T07:35:41.780720Z"
    }
   },
   "source": [
    "from diagrams import Cluster, Diagram\n",
    "from diagrams.onprem.container import Docker\n",
    "from diagrams.onprem.database import Mariadb\n",
    "from diagrams.onprem.inmemory import Redis\n",
    "from diagrams.programming.language import Python\n",
    "from diagrams.onprem.client import User"
   ],
   "outputs": [],
   "execution_count": 16
  },
  {
   "metadata": {
    "ExecuteTime": {
     "end_time": "2024-11-22T07:36:29.999056Z",
     "start_time": "2024-11-22T07:36:29.891254Z"
    }
   },
   "cell_type": "code",
   "source": [
    "with Diagram(\"Réseau\", show=True):\n",
    "    user = User(\"Client\")\n",
    "    \n",
    "    app_container = Docker(\"APP\")\n",
    "    db_master_container = Docker(\"DB master\")\n",
    "    db_slave_container = Docker(\"DB slave\")\n",
    "    db_inmemory_container = Docker(\"DB inmemory\")\n",
    "    \n",
    "    with Cluster(\"Internet\"):\n",
    "        user >> app_container\n",
    "\n",
    "    with Cluster(\"Kubernetes\"):\n",
    "        app_container >> [db_master_container, db_slave_container, db_inmemory_container]\n",
    " "
   ],
   "id": "3ba2096a7eb3a7e4",
   "outputs": [],
   "execution_count": 18
  },
  {
   "metadata": {
    "ExecuteTime": {
     "end_time": "2024-11-22T07:37:29.411726Z",
     "start_time": "2024-11-22T07:37:29.307262Z"
    }
   },
   "cell_type": "code",
   "source": [
    "with Diagram(\"Stack\", show=True):\n",
    "    user = User(\"Client\")\n",
    "    \n",
    "    app_techno = Python(\"Amandine\")\n",
    "    db_master_type = Mariadb(\"MariaDB\")\n",
    "    db_slave_type = Mariadb(\"MariaDB\")\n",
    "    db_inmemory_type = Redis(\"Redis\")\n",
    "    \n",
    "    with Cluster(\"Internet\"):\n",
    "        user >> app_techno\n",
    "\n",
    "    with Cluster(\"Kubernetes\"):\n",
    "        app_techno >> [db_master_type, db_slave_type, db_inmemory_type]"
   ],
   "id": "initial_id",
   "outputs": [],
   "execution_count": 20
  }
 ],
 "metadata": {
  "kernelspec": {
   "display_name": "Python 3",
   "language": "python",
   "name": "python3"
  },
  "language_info": {
   "codemirror_mode": {
    "name": "ipython",
    "version": 2
   },
   "file_extension": ".py",
   "mimetype": "text/x-python",
   "name": "python",
   "nbconvert_exporter": "python",
   "pygments_lexer": "ipython2",
   "version": "2.7.6"
  }
 },
 "nbformat": 4,
 "nbformat_minor": 5
}
